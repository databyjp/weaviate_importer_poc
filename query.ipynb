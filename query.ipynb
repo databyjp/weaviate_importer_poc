{
 "cells": [
  {
   "cell_type": "code",
   "execution_count": 1,
   "id": "df57b3d0-c6d3-427c-ac13-f3015d7680cd",
   "metadata": {},
   "outputs": [],
   "source": [
    "import weaviate"
   ]
  },
  {
   "cell_type": "code",
   "execution_count": 2,
   "id": "72c7f0bd-1830-4d96-b217-fbe967a26284",
   "metadata": {},
   "outputs": [],
   "source": [
    "client = weaviate.Client(\"http://localhost:8080\")"
   ]
  },
  {
   "cell_type": "code",
   "execution_count": 3,
   "id": "2f7a9ce5-f9f7-4971-a25f-9c56aaf87fec",
   "metadata": {},
   "outputs": [],
   "source": [
    "schema = client.schema.get()"
   ]
  },
  {
   "cell_type": "code",
   "execution_count": 4,
   "id": "4fed7c01-6fcd-43ca-8229-bbf17de604d6",
   "metadata": {},
   "outputs": [
    {
     "data": {
      "text/plain": [
       "[{'description': 'The distinctive nose on this bottling is tight yet tropical, with mango, pineapple, pear skins, orange rinds, dried lime peels and a gin-like juniper all converging. The palate offers a balance between tightly woven texture and ripe tropicality, with lime rinds, mango and petrol touches.'},\n",
       " {'description': 'Fruity, forward and quite refreshing, this has appealing black cherry fruit with a light candy flavor. The balancing tannins add sufficient depth and weight to allow this a few more years in the cellar.'},\n",
       " {'description': 'A year in wood and 30 months in bottle before release have allowed this attractive wine to fully develop its solid yet smooth texture. It has concentration, layers of bright black currant fruit and vibrant acidity. Ready to drink.'}]"
      ]
     },
     "execution_count": 4,
     "metadata": {},
     "output_type": "execute_result"
    }
   ],
   "source": [
    "results = client.query.get(\"WineReview\", [\"description\"]).do()\n",
    "results['data']['Get']['WineReview'][:3]"
   ]
  },
  {
   "cell_type": "code",
   "execution_count": 5,
   "id": "198ca4ab-44ac-45cb-8fec-f8e87f3875fb",
   "metadata": {},
   "outputs": [
    {
     "data": {
      "text/plain": [
       "[{'description': 'Lots of spearmint, coyote mint, hot licorice, ginger snaps and Dr Pepper spice up the strawberry fruit of this wine that provides a very herbal take on the grape. Oregano, marjoram, thyme and dill all make a showing on the sip, against a backbone of sweet cherry and blackberry fruit, finishing on cedar.'},\n",
       " {'description': 'From a promising new project, the nose of this wine is linear and focused, with black raspberry, black licorice, cola, wet sagebrush and rain-on-slate scents. The tactile acidity once sipped creates a fascinating soft buzz on the tongue, with flavors of dried mint, brisk raspberry and cherry tomato. Camphor and eucalyptus add intrigue on the finish.'},\n",
       " {'description': 'A blend of Merlot and Cabernet Franc, this wine brings disjointed lightly volatile aromas of wood spice, vanilla and cherry. The plump cherry flavors are rounded out by woody barrel notes.'}]"
      ]
     },
     "execution_count": 5,
     "metadata": {},
     "output_type": "execute_result"
    }
   ],
   "source": [
    "near_text_filter = {\n",
    "  \"concepts\": [\"cherry\"],\n",
    "  \"certainty\": 0.7,\n",
    "}\n",
    "\n",
    "neartxt_results = client.query.get(\"WineReview\", [\"description\"]).with_near_text(near_text_filter).do()\n",
    "neartxt_results['data']['Get']['WineReview'][:3]"
   ]
  },
  {
   "cell_type": "code",
   "execution_count": null,
   "id": "55a49427-f1f3-4dd1-ab68-2cf7205bb0a5",
   "metadata": {},
   "outputs": [],
   "source": []
  }
 ],
 "metadata": {
  "kernelspec": {
   "display_name": "Python 3 (ipykernel)",
   "language": "python",
   "name": "python3"
  },
  "language_info": {
   "codemirror_mode": {
    "name": "ipython",
    "version": 3
   },
   "file_extension": ".py",
   "mimetype": "text/x-python",
   "name": "python",
   "nbconvert_exporter": "python",
   "pygments_lexer": "ipython3",
   "version": "3.9.13"
  }
 },
 "nbformat": 4,
 "nbformat_minor": 5
}
