{
 "cells": [
  {
   "cell_type": "markdown",
   "id": "cb207437-8c48-4415-b46a-34e416b9447a",
   "metadata": {
    "slideshow": {
     "slide_type": "slide"
    }
   },
   "source": [
    "## Explore imported data"
   ]
  },
  {
   "cell_type": "code",
   "execution_count": 1,
   "id": "df57b3d0-c6d3-427c-ac13-f3015d7680cd",
   "metadata": {
    "slideshow": {
     "slide_type": "fragment"
    }
   },
   "outputs": [],
   "source": [
    "import weaviate\n",
    "from pprint import pprint"
   ]
  },
  {
   "cell_type": "code",
   "execution_count": 2,
   "id": "72c7f0bd-1830-4d96-b217-fbe967a26284",
   "metadata": {
    "slideshow": {
     "slide_type": "fragment"
    }
   },
   "outputs": [],
   "source": [
    "client = weaviate.Client(\"http://localhost:8080\")"
   ]
  },
  {
   "cell_type": "markdown",
   "id": "f28cb3fa",
   "metadata": {
    "slideshow": {
     "slide_type": "slide"
    }
   },
   "source": [
    "### Schema"
   ]
  },
  {
   "cell_type": "code",
   "execution_count": 3,
   "id": "3178f0a6",
   "metadata": {
    "scrolled": false,
    "slideshow": {
     "slide_type": "fragment"
    }
   },
   "outputs": [
    {
     "data": {
      "text/plain": [
       "{'classes': [{'class': 'WineReview',\n",
       "   'description': 'WineReview',\n",
       "   'invertedIndexConfig': {'bm25': {'b': 0.75, 'k1': 1.2},\n",
       "    'cleanupIntervalSeconds': 60,\n",
       "    'stopwords': {'additions': None, 'preset': 'en', 'removals': None}},\n",
       "   'moduleConfig': {'text2vec-contextionary': {'vectorizeClassName': True}},\n",
       "   'properties': [{'dataType': ['string'],\n",
       "     'description': 'Contains_country',\n",
       "     'moduleConfig': {'text2vec-contextionary': {'skip': False,\n",
       "       'vectorizePropertyName': False}},\n",
       "     'name': 'country',\n",
       "     'tokenization': 'word'},\n",
       "    {'dataType': ['string'],\n",
       "     'description': 'Contains_description',\n",
       "     'moduleConfig': {'text2vec-contextionary': {'skip': False,\n",
       "       'vectorizePropertyName': False}},\n",
       "     'name': 'description',\n",
       "     'tokenization': 'word'},\n",
       "    {'dataType': ['string'],\n",
       "     'description': 'Contains_designation',\n",
       "     'moduleConfig': {'text2vec-contextionary': {'skip': False,\n",
       "       'vectorizePropertyName': False}},\n",
       "     'name': 'designation',\n",
       "     'tokenization': 'word'},\n",
       "    {'dataType': ['int'],\n",
       "     'description': 'Contains_points',\n",
       "     'moduleConfig': {'text2vec-contextionary': {'skip': False,\n",
       "       'vectorizePropertyName': False}},\n",
       "     'name': 'points'},\n",
       "    {'dataType': ['number'],\n",
       "     'description': 'Contains_price',\n",
       "     'moduleConfig': {'text2vec-contextionary': {'skip': False,\n",
       "       'vectorizePropertyName': False}},\n",
       "     'name': 'price'},\n",
       "    {'dataType': ['string'],\n",
       "     'description': 'Contains_province',\n",
       "     'moduleConfig': {'text2vec-contextionary': {'skip': False,\n",
       "       'vectorizePropertyName': False}},\n",
       "     'name': 'province',\n",
       "     'tokenization': 'word'},\n",
       "    {'dataType': ['string'],\n",
       "     'description': 'Contains_region_1',\n",
       "     'moduleConfig': {'text2vec-contextionary': {'skip': False,\n",
       "       'vectorizePropertyName': False}},\n",
       "     'name': 'region_1',\n",
       "     'tokenization': 'word'},\n",
       "    {'dataType': ['string'],\n",
       "     'description': 'Contains_region_2',\n",
       "     'moduleConfig': {'text2vec-contextionary': {'skip': False,\n",
       "       'vectorizePropertyName': False}},\n",
       "     'name': 'region_2',\n",
       "     'tokenization': 'word'},\n",
       "    {'dataType': ['string'],\n",
       "     'description': 'Contains_taster_name',\n",
       "     'moduleConfig': {'text2vec-contextionary': {'skip': False,\n",
       "       'vectorizePropertyName': False}},\n",
       "     'name': 'taster_name',\n",
       "     'tokenization': 'word'},\n",
       "    {'dataType': ['string'],\n",
       "     'description': 'Contains_taster_twitter_handle',\n",
       "     'moduleConfig': {'text2vec-contextionary': {'skip': False,\n",
       "       'vectorizePropertyName': False}},\n",
       "     'name': 'taster_twitter_handle',\n",
       "     'tokenization': 'word'},\n",
       "    {'dataType': ['string'],\n",
       "     'description': 'Contains_title',\n",
       "     'moduleConfig': {'text2vec-contextionary': {'skip': False,\n",
       "       'vectorizePropertyName': False}},\n",
       "     'name': 'title',\n",
       "     'tokenization': 'word'},\n",
       "    {'dataType': ['string'],\n",
       "     'description': 'Contains_variety',\n",
       "     'moduleConfig': {'text2vec-contextionary': {'skip': False,\n",
       "       'vectorizePropertyName': False}},\n",
       "     'name': 'variety',\n",
       "     'tokenization': 'word'},\n",
       "    {'dataType': ['string'],\n",
       "     'description': 'Contains_winery',\n",
       "     'moduleConfig': {'text2vec-contextionary': {'skip': False,\n",
       "       'vectorizePropertyName': False}},\n",
       "     'name': 'winery',\n",
       "     'tokenization': 'word'}],\n",
       "   'shardingConfig': {'virtualPerPhysical': 128,\n",
       "    'desiredCount': 1,\n",
       "    'actualCount': 1,\n",
       "    'desiredVirtualCount': 128,\n",
       "    'actualVirtualCount': 128,\n",
       "    'key': '_id',\n",
       "    'strategy': 'hash',\n",
       "    'function': 'murmur3'},\n",
       "   'vectorIndexConfig': {'skip': False,\n",
       "    'cleanupIntervalSeconds': 300,\n",
       "    'maxConnections': 64,\n",
       "    'efConstruction': 128,\n",
       "    'ef': -1,\n",
       "    'dynamicEfMin': 100,\n",
       "    'dynamicEfMax': 500,\n",
       "    'dynamicEfFactor': 8,\n",
       "    'vectorCacheMaxObjects': 1000000000000,\n",
       "    'flatSearchCutoff': 40000,\n",
       "    'distance': 'cosine'},\n",
       "   'vectorIndexType': 'hnsw',\n",
       "   'vectorizer': 'text2vec-contextionary'},\n",
       "  {'class': 'News',\n",
       "   'description': 'Contains News data',\n",
       "   'invertedIndexConfig': {'bm25': {'b': 0.75, 'k1': 1.2},\n",
       "    'cleanupIntervalSeconds': 60,\n",
       "    'stopwords': {'additions': None, 'preset': 'en', 'removals': None}},\n",
       "   'moduleConfig': {'text2vec-contextionary': {'vectorizeClassName': True}},\n",
       "   'properties': [{'dataType': ['string'],\n",
       "     'description': 'Contains_title',\n",
       "     'moduleConfig': {'text2vec-contextionary': {'skip': False,\n",
       "       'vectorizePropertyName': False}},\n",
       "     'name': 'title',\n",
       "     'tokenization': 'word'},\n",
       "    {'dataType': ['string'],\n",
       "     'description': 'Contains_text',\n",
       "     'moduleConfig': {'text2vec-contextionary': {'skip': False,\n",
       "       'vectorizePropertyName': False}},\n",
       "     'name': 'text',\n",
       "     'tokenization': 'word'},\n",
       "    {'dataType': ['string'],\n",
       "     'description': 'Contains_subject',\n",
       "     'moduleConfig': {'text2vec-contextionary': {'skip': False,\n",
       "       'vectorizePropertyName': False}},\n",
       "     'name': 'subject',\n",
       "     'tokenization': 'word'},\n",
       "    {'dataType': ['string'],\n",
       "     'description': 'Contains_date',\n",
       "     'moduleConfig': {'text2vec-contextionary': {'skip': False,\n",
       "       'vectorizePropertyName': False}},\n",
       "     'name': 'date',\n",
       "     'tokenization': 'word'}],\n",
       "   'shardingConfig': {'virtualPerPhysical': 128,\n",
       "    'desiredCount': 1,\n",
       "    'actualCount': 1,\n",
       "    'desiredVirtualCount': 128,\n",
       "    'actualVirtualCount': 128,\n",
       "    'key': '_id',\n",
       "    'strategy': 'hash',\n",
       "    'function': 'murmur3'},\n",
       "   'vectorIndexConfig': {'skip': False,\n",
       "    'cleanupIntervalSeconds': 300,\n",
       "    'maxConnections': 64,\n",
       "    'efConstruction': 128,\n",
       "    'ef': -1,\n",
       "    'dynamicEfMin': 100,\n",
       "    'dynamicEfMax': 500,\n",
       "    'dynamicEfFactor': 8,\n",
       "    'vectorCacheMaxObjects': 1000000000000,\n",
       "    'flatSearchCutoff': 40000,\n",
       "    'distance': 'cosine'},\n",
       "   'vectorIndexType': 'hnsw',\n",
       "   'vectorizer': 'text2vec-contextionary'},\n",
       "  {'class': 'VideoGameReview',\n",
       "   'description': 'Contains VideoGameReview data',\n",
       "   'invertedIndexConfig': {'bm25': {'b': 0.75, 'k1': 1.2},\n",
       "    'cleanupIntervalSeconds': 60,\n",
       "    'stopwords': {'additions': None, 'preset': 'en', 'removals': None}},\n",
       "   'moduleConfig': {'text2vec-contextionary': {'vectorizeClassName': True}},\n",
       "   'properties': [{'dataType': ['number'],\n",
       "     'description': 'Contains_overall',\n",
       "     'moduleConfig': {'text2vec-contextionary': {'skip': False,\n",
       "       'vectorizePropertyName': False}},\n",
       "     'name': 'overall'},\n",
       "    {'dataType': ['boolean'],\n",
       "     'description': 'Contains_verified',\n",
       "     'moduleConfig': {'text2vec-contextionary': {'skip': False,\n",
       "       'vectorizePropertyName': False}},\n",
       "     'name': 'verified'},\n",
       "    {'dataType': ['string'],\n",
       "     'description': 'Contains_reviewTime',\n",
       "     'moduleConfig': {'text2vec-contextionary': {'skip': False,\n",
       "       'vectorizePropertyName': False}},\n",
       "     'name': 'reviewTime',\n",
       "     'tokenization': 'word'},\n",
       "    {'dataType': ['string'],\n",
       "     'description': 'Contains_reviewerID',\n",
       "     'moduleConfig': {'text2vec-contextionary': {'skip': False,\n",
       "       'vectorizePropertyName': False}},\n",
       "     'name': 'reviewerID',\n",
       "     'tokenization': 'word'},\n",
       "    {'dataType': ['string'],\n",
       "     'description': 'Contains_asin',\n",
       "     'moduleConfig': {'text2vec-contextionary': {'skip': False,\n",
       "       'vectorizePropertyName': False}},\n",
       "     'name': 'asin',\n",
       "     'tokenization': 'word'},\n",
       "    {'dataType': ['string'],\n",
       "     'description': 'Contains_reviewerName',\n",
       "     'moduleConfig': {'text2vec-contextionary': {'skip': False,\n",
       "       'vectorizePropertyName': False}},\n",
       "     'name': 'reviewerName',\n",
       "     'tokenization': 'word'},\n",
       "    {'dataType': ['string'],\n",
       "     'description': 'Contains_reviewText',\n",
       "     'moduleConfig': {'text2vec-contextionary': {'skip': False,\n",
       "       'vectorizePropertyName': False}},\n",
       "     'name': 'reviewText',\n",
       "     'tokenization': 'word'},\n",
       "    {'dataType': ['string'],\n",
       "     'description': 'Contains_summary',\n",
       "     'moduleConfig': {'text2vec-contextionary': {'skip': False,\n",
       "       'vectorizePropertyName': False}},\n",
       "     'name': 'summary',\n",
       "     'tokenization': 'word'},\n",
       "    {'dataType': ['int'],\n",
       "     'description': 'Contains_unixReviewTime',\n",
       "     'moduleConfig': {'text2vec-contextionary': {'skip': False,\n",
       "       'vectorizePropertyName': False}},\n",
       "     'name': 'unixReviewTime'},\n",
       "    {'dataType': ['string'],\n",
       "     'description': 'Contains_vote',\n",
       "     'moduleConfig': {'text2vec-contextionary': {'skip': False,\n",
       "       'vectorizePropertyName': False}},\n",
       "     'name': 'vote',\n",
       "     'tokenization': 'word'},\n",
       "    {'dataType': ['string'],\n",
       "     'description': 'Contains_style',\n",
       "     'moduleConfig': {'text2vec-contextionary': {'skip': False,\n",
       "       'vectorizePropertyName': False}},\n",
       "     'name': 'style',\n",
       "     'tokenization': 'word'}],\n",
       "   'shardingConfig': {'virtualPerPhysical': 128,\n",
       "    'desiredCount': 1,\n",
       "    'actualCount': 1,\n",
       "    'desiredVirtualCount': 128,\n",
       "    'actualVirtualCount': 128,\n",
       "    'key': '_id',\n",
       "    'strategy': 'hash',\n",
       "    'function': 'murmur3'},\n",
       "   'vectorIndexConfig': {'skip': False,\n",
       "    'cleanupIntervalSeconds': 300,\n",
       "    'maxConnections': 64,\n",
       "    'efConstruction': 128,\n",
       "    'ef': -1,\n",
       "    'dynamicEfMin': 100,\n",
       "    'dynamicEfMax': 500,\n",
       "    'dynamicEfFactor': 8,\n",
       "    'vectorCacheMaxObjects': 1000000000000,\n",
       "    'flatSearchCutoff': 40000,\n",
       "    'distance': 'cosine'},\n",
       "   'vectorIndexType': 'hnsw',\n",
       "   'vectorizer': 'text2vec-contextionary'}]}"
      ]
     },
     "execution_count": 3,
     "metadata": {},
     "output_type": "execute_result"
    }
   ],
   "source": [
    "client.schema.get()"
   ]
  },
  {
   "cell_type": "markdown",
   "id": "352799f8",
   "metadata": {
    "slideshow": {
     "slide_type": "slide"
    }
   },
   "source": [
    "### Query"
   ]
  },
  {
   "cell_type": "code",
   "execution_count": 4,
   "id": "4fed7c01-6fcd-43ca-8229-bbf17de604d6",
   "metadata": {
    "slideshow": {
     "slide_type": "fragment"
    }
   },
   "outputs": [
    {
     "name": "stdout",
     "output_type": "stream",
     "text": [
      "{'country': 'Argentina',\n",
      " 'description': 'This is a highly particular, funky blend of 85% Malbec and '\n",
      "                '15% Cabernet. It opens with savory stewy earthy aromas of '\n",
      "                'berry fruits and prune. Due to the 15.5% abv, this feels '\n",
      "                'heavy and clampy, with rooty flavors of baked berry fruits, '\n",
      "                'cola, minty herbs and carob. An oaky spicy toasty finish with '\n",
      "                'heat is the closing act on this fully stuffed Salta blend.',\n",
      " 'designation': 'Reserve'}\n",
      "{'country': 'Argentina',\n",
      " 'description': 'This youthful pink-colored number smells of dusty cherry and '\n",
      "                'Lifesavers. A juicy palate has a soda-like feel, while '\n",
      "                'flavors of raspberry and cherry are light and dilute across '\n",
      "                'the finish.',\n",
      " 'designation': 'Sustainably Farmed Estate Grown and Bottled'}\n",
      "{'country': 'Chile',\n",
      " 'description': 'Prickly aromas of nettle are simple as well as diluted. This '\n",
      "                'feels basic and fresh, while green, citrusy flavors end with '\n",
      "                'pithy notes and an oily feel.',\n",
      " 'designation': 'Reserva Casillero del Diablo'}\n"
     ]
    }
   ],
   "source": [
    "query_cols = [\"description\", \"country\", \"designation\"]\n",
    "\n",
    "results = client.query.get(\"WineReview\", query_cols).do()\n",
    "for r in results['data']['Get']['WineReview'][:3]:\n",
    "    pprint(r)"
   ]
  },
  {
   "cell_type": "markdown",
   "id": "9fd4493b",
   "metadata": {
    "slideshow": {
     "slide_type": "slide"
    }
   },
   "source": [
    "### Vector query"
   ]
  },
  {
   "cell_type": "code",
   "execution_count": 5,
   "id": "198ca4ab-44ac-45cb-8fec-f8e87f3875fb",
   "metadata": {
    "slideshow": {
     "slide_type": "fragment"
    }
   },
   "outputs": [
    {
     "name": "stdout",
     "output_type": "stream",
     "text": [
      "{'country': 'US',\n",
      " 'description': 'Lemon curd and artificial butter show on the nose and palate, '\n",
      "                'with underripe peach adding verve to a creamy body.',\n",
      " 'designation': 'Church Creek Oak'}\n",
      "{'country': 'US',\n",
      " 'description': 'Lots of spearmint, coyote mint, hot licorice, ginger snaps '\n",
      "                'and Dr Pepper spice up the strawberry fruit of this wine that '\n",
      "                'provides a very herbal take on the grape. Oregano, marjoram, '\n",
      "                'thyme and dill all make a showing on the sip, against a '\n",
      "                'backbone of sweet cherry and blackberry fruit, finishing on '\n",
      "                'cedar.',\n",
      " 'designation': 'J.D. Hurley'}\n",
      "{'country': 'US',\n",
      " 'description': 'With black cherry, blueberry, milk chocolate and balsamic '\n",
      "                'reduction offsetting the light dill herbaceousness, this wine '\n",
      "                'offers surprising depth for the affordable price. The texture '\n",
      "                'is soft, yet the tannins stand up to the black cherry, '\n",
      "                'charcoal and black-pepper flavors.',\n",
      " 'designation': 'Reserve'}\n"
     ]
    }
   ],
   "source": [
    "near_text_filter = {\n",
    "  \"concepts\": [\"cherry\"],\n",
    "  \"certainty\": 0.7,\n",
    "}\n",
    "\n",
    "neartxt_results = client.query.get(\"WineReview\", query_cols).with_near_text(near_text_filter).do()\n",
    "for r in neartxt_results['data']['Get']['WineReview'][:3]:\n",
    "    pprint(r)"
   ]
  },
  {
   "cell_type": "code",
   "execution_count": null,
   "id": "55a49427-f1f3-4dd1-ab68-2cf7205bb0a5",
   "metadata": {},
   "outputs": [],
   "source": []
  }
 ],
 "metadata": {
  "celltoolbar": "Slideshow",
  "kernelspec": {
   "display_name": "Python 3 (ipykernel)",
   "language": "python",
   "name": "python3"
  },
  "language_info": {
   "codemirror_mode": {
    "name": "ipython",
    "version": 3
   },
   "file_extension": ".py",
   "mimetype": "text/x-python",
   "name": "python",
   "nbconvert_exporter": "python",
   "pygments_lexer": "ipython3",
   "version": "3.9.13"
  },
  "varInspector": {
   "cols": {
    "lenName": 16,
    "lenType": 16,
    "lenVar": 40
   },
   "kernels_config": {
    "python": {
     "delete_cmd_postfix": "",
     "delete_cmd_prefix": "del ",
     "library": "var_list.py",
     "varRefreshCmd": "print(var_dic_list())"
    },
    "r": {
     "delete_cmd_postfix": ") ",
     "delete_cmd_prefix": "rm(",
     "library": "var_list.r",
     "varRefreshCmd": "cat(var_dic_list()) "
    }
   },
   "types_to_exclude": [
    "module",
    "function",
    "builtin_function_or_method",
    "instance",
    "_Feature"
   ],
   "window_display": false
  }
 },
 "nbformat": 4,
 "nbformat_minor": 5
}
