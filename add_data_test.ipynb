{
 "cells": [
  {
   "cell_type": "code",
   "execution_count": 1,
   "id": "cf3192ad-3b1e-4e8c-af41-9eaab4459123",
   "metadata": {},
   "outputs": [],
   "source": [
    "import gzip, json\n",
    "def parse(path):\n",
    "    with open(path, 'r') as g:\n",
    "        line = g.readline()\n",
    "        while line:\n",
    "            yield json.loads(line)\n",
    "            line = g.readline()        "
   ]
  },
  {
   "cell_type": "code",
   "execution_count": 2,
   "id": "4706ca99-aaa9-41af-aeda-16391dc38118",
   "metadata": {},
   "outputs": [
    {
     "ename": "UnicodeDecodeError",
     "evalue": "'utf-8' codec can't decode byte 0x8b in position 1: invalid start byte",
     "output_type": "error",
     "traceback": [
      "\u001b[0;31m---------------------------------------------------------------------------\u001b[0m",
      "\u001b[0;31mUnicodeDecodeError\u001b[0m                        Traceback (most recent call last)",
      "Cell \u001b[0;32mIn [2], line 2\u001b[0m\n\u001b[1;32m      1\u001b[0m fpath \u001b[38;5;241m=\u001b[39m \u001b[38;5;124m\"\u001b[39m\u001b[38;5;124mdata/Video_Games_5.json.gz\u001b[39m\u001b[38;5;124m\"\u001b[39m\n\u001b[0;32m----> 2\u001b[0m \u001b[38;5;28;43mnext\u001b[39;49m\u001b[43m(\u001b[49m\u001b[43mparse\u001b[49m\u001b[43m(\u001b[49m\u001b[43mfpath\u001b[49m\u001b[43m)\u001b[49m\u001b[43m)\u001b[49m\n",
      "Cell \u001b[0;32mIn [1], line 4\u001b[0m, in \u001b[0;36mparse\u001b[0;34m(path)\u001b[0m\n\u001b[1;32m      2\u001b[0m \u001b[38;5;28;01mdef\u001b[39;00m \u001b[38;5;21mparse\u001b[39m(path):\n\u001b[1;32m      3\u001b[0m     \u001b[38;5;28;01mwith\u001b[39;00m \u001b[38;5;28mopen\u001b[39m(path, \u001b[38;5;124m'\u001b[39m\u001b[38;5;124mr\u001b[39m\u001b[38;5;124m'\u001b[39m) \u001b[38;5;28;01mas\u001b[39;00m g:\n\u001b[0;32m----> 4\u001b[0m         line \u001b[38;5;241m=\u001b[39m \u001b[43mg\u001b[49m\u001b[38;5;241;43m.\u001b[39;49m\u001b[43mreadline\u001b[49m\u001b[43m(\u001b[49m\u001b[43m)\u001b[49m\n\u001b[1;32m      5\u001b[0m         \u001b[38;5;28;01mwhile\u001b[39;00m line:\n\u001b[1;32m      6\u001b[0m             \u001b[38;5;28;01myield\u001b[39;00m json\u001b[38;5;241m.\u001b[39mloads(line)\n",
      "File \u001b[0;32m~/opt/miniconda3/lib/python3.9/codecs.py:322\u001b[0m, in \u001b[0;36mBufferedIncrementalDecoder.decode\u001b[0;34m(self, input, final)\u001b[0m\n\u001b[1;32m    319\u001b[0m \u001b[38;5;28;01mdef\u001b[39;00m \u001b[38;5;21mdecode\u001b[39m(\u001b[38;5;28mself\u001b[39m, \u001b[38;5;28minput\u001b[39m, final\u001b[38;5;241m=\u001b[39m\u001b[38;5;28;01mFalse\u001b[39;00m):\n\u001b[1;32m    320\u001b[0m     \u001b[38;5;66;03m# decode input (taking the buffer into account)\u001b[39;00m\n\u001b[1;32m    321\u001b[0m     data \u001b[38;5;241m=\u001b[39m \u001b[38;5;28mself\u001b[39m\u001b[38;5;241m.\u001b[39mbuffer \u001b[38;5;241m+\u001b[39m \u001b[38;5;28minput\u001b[39m\n\u001b[0;32m--> 322\u001b[0m     (result, consumed) \u001b[38;5;241m=\u001b[39m \u001b[38;5;28;43mself\u001b[39;49m\u001b[38;5;241;43m.\u001b[39;49m\u001b[43m_buffer_decode\u001b[49m\u001b[43m(\u001b[49m\u001b[43mdata\u001b[49m\u001b[43m,\u001b[49m\u001b[43m \u001b[49m\u001b[38;5;28;43mself\u001b[39;49m\u001b[38;5;241;43m.\u001b[39;49m\u001b[43merrors\u001b[49m\u001b[43m,\u001b[49m\u001b[43m \u001b[49m\u001b[43mfinal\u001b[49m\u001b[43m)\u001b[49m\n\u001b[1;32m    323\u001b[0m     \u001b[38;5;66;03m# keep undecoded input until the next call\u001b[39;00m\n\u001b[1;32m    324\u001b[0m     \u001b[38;5;28mself\u001b[39m\u001b[38;5;241m.\u001b[39mbuffer \u001b[38;5;241m=\u001b[39m data[consumed:]\n",
      "\u001b[0;31mUnicodeDecodeError\u001b[0m: 'utf-8' codec can't decode byte 0x8b in position 1: invalid start byte"
     ]
    }
   ],
   "source": [
    "fpath = \"data/Video_Games_5.json.gz\"\n",
    "next(parse(fpath))"
   ]
  },
  {
   "cell_type": "code",
   "execution_count": null,
   "id": "1f15ecaf-3eb5-41cc-80ad-60d62acc454b",
   "metadata": {},
   "outputs": [],
   "source": [
    "dlist = list()\n",
    "for i, l in enumerate(parse(fpath)):\n",
    "    dlist.append(l)\n",
    "    if i+1 >= 100:\n",
    "        break"
   ]
  },
  {
   "cell_type": "code",
   "execution_count": null,
   "id": "453217e6-dab0-42a3-9202-dfdfaeccb4db",
   "metadata": {},
   "outputs": [],
   "source": [
    "import pandas as pd\n",
    "df = pd.DataFrame(dlist)\n",
    "df.head()"
   ]
  },
  {
   "cell_type": "markdown",
   "id": "75da1718-9dbe-4aeb-8374-9487cdef0c2d",
   "metadata": {},
   "source": [
    "## Add Schema"
   ]
  },
  {
   "cell_type": "code",
   "execution_count": null,
   "id": "543d4b52-ef71-4b9c-8858-f8742ae8e328",
   "metadata": {},
   "outputs": [],
   "source": [
    "import weaviate as wv"
   ]
  },
  {
   "cell_type": "code",
   "execution_count": null,
   "id": "1223cfb7-7fca-435a-81ac-21431da964cd",
   "metadata": {},
   "outputs": [],
   "source": [
    "client = wv.Client(\"http://localhost:8080/\")\n",
    "client.schema.delete_all()\n",
    "client.schema.get()"
   ]
  },
  {
   "cell_type": "code",
   "execution_count": null,
   "id": "12cb2faf-b487-4551-944c-8b9c010bf36c",
   "metadata": {},
   "outputs": [],
   "source": [
    "df.info()"
   ]
  },
  {
   "cell_type": "code",
   "execution_count": null,
   "id": "7e33cd87-bebe-4f2d-b060-b7580f3f95ea",
   "metadata": {},
   "outputs": [],
   "source": [
    "for i, j in df.dtypes.iteritems():\n",
    "    print(i, j)"
   ]
  },
  {
   "cell_type": "code",
   "execution_count": null,
   "id": "2393b96a-7889-4e32-b3b8-b1a9ef04a01b",
   "metadata": {},
   "outputs": [],
   "source": [
    "def get_wv_dtype(data_type):\n",
    "    if data_type == object:\n",
    "        return \"string\"\n",
    "    elif data_type == int:\n",
    "        return \"int\"\n",
    "    elif data_type == bool:\n",
    "        return \"boolean\"\n",
    "    elif data_type == float:\n",
    "        return \"number\"\n",
    "    else:\n",
    "        return \"string\"\n",
    "    \n",
    "\n",
    "def col_to_prop(name_col, dtype_in):\n",
    "    prop = {\n",
    "        \"dataType\": [get_wv_dtype(dtype_in)],\n",
    "        \"name\": name_col,\n",
    "        \"description\": f\"Contains_{name_col}\"\n",
    "    }\n",
    "    return prop\n",
    "props = [\n",
    "    col_to_prop(colname, datatype) for colname, datatype in df.dtypes.iteritems()\n",
    "]\n",
    "props"
   ]
  },
  {
   "cell_type": "code",
   "execution_count": null,
   "id": "abf9bd38-4b8a-4ea8-acb1-c532c4479e56",
   "metadata": {},
   "outputs": [],
   "source": [
    "class_obj = {\n",
    "    \"class\": \"Review\",\n",
    "    \"description\": \"An Amazon review entry\",\n",
    "    \"properties\": props,\n",
    "}\n",
    "\n",
    "client.schema.create_class(class_obj)"
   ]
  },
  {
   "cell_type": "code",
   "execution_count": null,
   "id": "7258a84d-8649-42d1-a6c4-ad14f9c4142d",
   "metadata": {},
   "outputs": [],
   "source": [
    "client.schema.get()"
   ]
  },
  {
   "cell_type": "markdown",
   "id": "c678653b-7030-4799-bae2-dd36c0d3805d",
   "metadata": {},
   "source": [
    "## Add data"
   ]
  },
  {
   "cell_type": "code",
   "execution_count": null,
   "id": "e6365ca0-2ed8-472a-968b-6d20ca6b7239",
   "metadata": {},
   "outputs": [],
   "source": [
    "client.batch.configure(\n",
    "    batch_size=100,\n",
    "    dynamic=False,\n",
    "    timeout_retries=3,\n",
    ")"
   ]
  },
  {
   "cell_type": "code",
   "execution_count": null,
   "id": "be737c22-1bda-4a34-a2c5-07175a54e4c2",
   "metadata": {},
   "outputs": [],
   "source": [
    "client.batch.add_data_object?"
   ]
  },
  {
   "cell_type": "code",
   "execution_count": null,
   "id": "fca34743-2595-4838-9685-100dfbf0e5ac",
   "metadata": {},
   "outputs": [],
   "source": [
    "for i, l in enumerate(parse(fpath)):\n",
    "    client.batch.add_data_object(\n",
    "        data_object=l,\n",
    "        class_name=\"Review\",\n",
    "    )\n",
    "    if i+1 >= 100:\n",
    "        break\n",
    "client.batch.flush()"
   ]
  },
  {
   "cell_type": "code",
   "execution_count": null,
   "id": "c86b1227-4de3-48e4-b457-0964cb40324b",
   "metadata": {},
   "outputs": [],
   "source": [
    "client.data_object.get()"
   ]
  },
  {
   "cell_type": "code",
   "execution_count": null,
   "id": "fc8266f2-3eb2-49c6-8720-1ee27c96a53c",
   "metadata": {},
   "outputs": [],
   "source": [
    "schema = client.schema.get()\n",
    "schema['classes'][0]['properties']"
   ]
  },
  {
   "cell_type": "markdown",
   "id": "3ce699b5-a21d-4dd5-9645-a34a5d3648e2",
   "metadata": {},
   "source": [
    "## To Func"
   ]
  },
  {
   "cell_type": "code",
   "execution_count": null,
   "id": "cc0d0339-5520-4fa3-b24d-837cd5f9ebf4",
   "metadata": {},
   "outputs": [],
   "source": [
    "import gzip, json\n",
    "import pandas as pd\n",
    "\n",
    "\n",
    "def parse(path):\n",
    "    with gzip.open(path, 'r') as g:\n",
    "        line = g.readline()\n",
    "        while line:\n",
    "            yield json.loads(line)\n",
    "            line = g.readline()        \n",
    "\n",
    "\n",
    "# Build DataFrame for schema building\n",
    "dlist = list()\n",
    "for i, l in enumerate(parse(fpath)):\n",
    "    dlist.append(l)\n",
    "    if i+1 >= 100:\n",
    "        break\n",
    "\n",
    "df = pd.DataFrame(dlist)\n",
    "df.head()\n",
    "\n",
    "\n",
    "## Add Schema\n",
    "import weaviate as wv\n",
    "client = wv.Client(\"http://localhost:8080/\")\n",
    "client.schema.delete_all()\n",
    "client.schema.get()\n",
    "\n",
    "\n",
    "def get_wv_dtype(data_type):\n",
    "    if data_type == object:\n",
    "        return \"string\"\n",
    "    elif data_type == int:\n",
    "        return \"int\"\n",
    "    elif data_type == bool:\n",
    "        return \"boolean\"\n",
    "    elif data_type == float:\n",
    "        return \"number\"\n",
    "    else:\n",
    "        return \"string\"\n",
    "    \n",
    "\n",
    "def col_to_prop(name_col, dtype_in):\n",
    "    prop = {\n",
    "        \"dataType\": [get_wv_dtype(dtype_in)],\n",
    "        \"name\": name_col,\n",
    "        \"description\": f\"Contains_{name_col}\"\n",
    "    }\n",
    "    return prop\n",
    "\n",
    "\n",
    "props = [\n",
    "    col_to_prop(colname, datatype) for colname, datatype in df.dtypes.iteritems()\n",
    "]\n",
    "\n",
    "\n",
    "class_obj = {\n",
    "    \"class\": \"Review\",\n",
    "    \"description\": \"An Amazon review entry\",\n",
    "    \"properties\": props,\n",
    "}\n",
    "\n",
    "client.schema.create_class(class_obj)\n",
    "\n",
    "## Add data\n",
    "client.batch.configure(\n",
    "    batch_size=100,\n",
    "    dynamic=False,\n",
    "    timeout_retries=3,\n",
    ")\n",
    "\n",
    "for i, l in enumerate(parse(fpath)):\n",
    "    client.batch.add_data_object(\n",
    "        data_object=l,\n",
    "        class_name=\"Review\",\n",
    "    )\n",
    "    if i+1 >= 100:\n",
    "        break\n",
    "client.batch.flush()"
   ]
  },
  {
   "cell_type": "code",
   "execution_count": null,
   "id": "0c293596-afa4-4c7e-9e75-f8c59810cd0f",
   "metadata": {},
   "outputs": [],
   "source": []
  }
 ],
 "metadata": {
  "kernelspec": {
   "display_name": "Python 3 (ipykernel)",
   "language": "python",
   "name": "python3"
  },
  "language_info": {
   "codemirror_mode": {
    "name": "ipython",
    "version": 3
   },
   "file_extension": ".py",
   "mimetype": "text/x-python",
   "name": "python",
   "nbconvert_exporter": "python",
   "pygments_lexer": "ipython3",
   "version": "3.9.13"
  }
 },
 "nbformat": 4,
 "nbformat_minor": 5
}
